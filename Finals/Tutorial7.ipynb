{
 "cells": [
  {
   "cell_type": "code",
   "execution_count": 37,
   "metadata": {},
   "outputs": [],
   "source": [
    "import numpy as np "
   ]
  },
  {
   "cell_type": "code",
   "execution_count": 38,
   "metadata": {},
   "outputs": [],
   "source": [
    "stages = np.random.gamma(shape=1, scale=3/2, size=10000)"
   ]
  },
  {
   "cell_type": "code",
   "execution_count": 39,
   "metadata": {},
   "outputs": [
    {
     "name": "stdout",
     "output_type": "stream",
     "text": [
      "0.12642411176571153\n"
     ]
    }
   ],
   "source": [
    "# scenario 1: do nothing\n",
    "X = (110000 - 0)/110000\n",
    "Uc = 1 - np.exp(-X)\n",
    "\n",
    "Y = 0\n",
    "Uy = (1 - np.exp(-Y))/(1 - np.exp(-6))\n",
    "\n",
    "U = 0.2 * Uc + 0.7 * Uy + 0.1 * Uc * Uy\n",
    "\n",
    "print(U)"
   ]
  },
  {
   "cell_type": "code",
   "execution_count": 40,
   "metadata": {},
   "outputs": [
    {
     "name": "stdout",
     "output_type": "stream",
     "text": [
      "0.11252845453963838\n"
     ]
    }
   ],
   "source": [
    "# scenario 2: do not do biopsy, always treat\n",
    "X = (110000 - 100000)/110000 * np.ones(10000)\n",
    "Uc = 1 - np.exp(-X)\n",
    "\n",
    "Y = np.where(stages > 3, stages, 0)\n",
    "Uy = (1 - np.exp(-Y))/(1 - np.exp(-6))\n",
    "\n",
    "U = 0.2 * Uc + 0.7 * Uy + 0.1 * Uc * Uy\n",
    "\n",
    "print(np.mean(U))"
   ]
  },
  {
   "cell_type": "code",
   "execution_count": 41,
   "metadata": {},
   "outputs": [
    {
     "name": "stdout",
     "output_type": "stream",
     "text": [
      "0.21971111550134806\n"
     ]
    }
   ],
   "source": [
    "# scenario 3: do biopsy, only do the treatment if biopsy result is above optimal threshold\n",
    "threshold = 3\n",
    "\n",
    "stages = np.random.gamma(shape=1, scale=3/2, size=10000)\n",
    "\n",
    "biopsy = np.random.normal(loc=stages, scale=np.sqrt(stages**2+4)/2)\n",
    "\n",
    "do_treatment = np.where(biopsy > threshold, 1, 0)\n",
    "\n",
    "X = np.where(do_treatment, 0, (110000 - 10000)/110000)\n",
    "Uc = (1 - np.exp(-X))/(1 - np.exp(-1))\n",
    "\n",
    "Y = np.where(do_treatment & (stages > 3), stages, 0)\n",
    "Uy = (1 - np.exp(-Y))/(1 - np.exp(-6))\n",
    "\n",
    "U = 0.2 * Uc + 0.7 * Uy + 0.1 * Uc * Uy\n",
    "\n",
    "print(np.mean(U))"
   ]
  },
  {
   "cell_type": "code",
   "execution_count": 45,
   "metadata": {},
   "outputs": [
    {
     "name": "stdout",
     "output_type": "stream",
     "text": [
      "2 0.20618211969657285\n",
      "2.1 0.20970365539384925\n",
      "2.2 0.21203896903963182\n",
      "2.3000000000000003 0.2135470980573613\n",
      "2.4000000000000004 0.21477268566734617\n",
      "2.5000000000000004 0.21721132543204225\n",
      "2.6000000000000005 0.21736558466812378\n",
      "2.7000000000000006 0.21796855335567034\n",
      "2.8000000000000007 0.21831488808937788\n",
      "2.900000000000001 0.22001072276504485\n",
      "3.000000000000001 0.2204996462229281\n",
      "3.100000000000001 0.22084964328066736\n",
      "3.200000000000001 0.22062804082484416\n",
      "3.300000000000001 0.22178394304571455\n",
      "3.4000000000000012 0.2215772779071028\n",
      "3.5000000000000013 0.22085512229080684\n",
      "3.6000000000000014 0.22047272697917095\n",
      "3.7000000000000015 0.21970813894630925\n",
      "3.8000000000000016 0.220404288854749\n",
      "3.9000000000000017 0.21967579426430492\n",
      "4.000000000000002 0.21948270424139635\n",
      "4.100000000000001 0.21852312521202588\n",
      "4.200000000000001 0.21815889101934113\n",
      "4.300000000000001 0.21735035596310576\n",
      "4.4 0.21790542113613967\n",
      "4.5 0.21625821828657193\n"
     ]
    }
   ],
   "source": [
    "threshold = 2\n",
    "\n",
    "while True:\n",
    "\n",
    "    stages = np.random.gamma(shape=1, scale=3/2, size=100000)\n",
    "\n",
    "    biopsy = np.random.normal(loc=stages, scale=np.sqrt(stages**2+4)/2)\n",
    "\n",
    "    do_treatment = np.where(biopsy > threshold, 1, 0)\n",
    "\n",
    "    # X = np.where(do_treatment==1, 0, (110000 - 10000)/110000)\n",
    "    X = (110000 - (10000+do_treatment*100000))/110000\n",
    "    Uc = (1 - np.exp(-X))/(1 - np.exp(-1))\n",
    "\n",
    "    Y = np.where((do_treatment==1) & (stages > 3), stages, 0)\n",
    "    Uy = (1 - np.exp(-Y))/(1 - np.exp(-6))\n",
    "\n",
    "    U = 0.2 * Uc + 0.7 * Uy + 0.1 * Uc * Uy\n",
    "\n",
    "    print(threshold, U.mean())\n",
    "\n",
    "    threshold += 0.1\n",
    "\n",
    "    if threshold > 4.5:\n",
    "        break\n",
    "\n"
   ]
  },
  {
   "cell_type": "code",
   "execution_count": null,
   "metadata": {},
   "outputs": [],
   "source": []
  }
 ],
 "metadata": {
  "kernelspec": {
   "display_name": "MIE566",
   "language": "python",
   "name": "python3"
  },
  "language_info": {
   "codemirror_mode": {
    "name": "ipython",
    "version": 3
   },
   "file_extension": ".py",
   "mimetype": "text/x-python",
   "name": "python",
   "nbconvert_exporter": "python",
   "pygments_lexer": "ipython3",
   "version": "3.8.20"
  }
 },
 "nbformat": 4,
 "nbformat_minor": 2
}
