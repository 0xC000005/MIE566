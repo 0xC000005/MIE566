{
 "nbformat": 4,
 "nbformat_minor": 0,
 "metadata": {
  "colab": {
   "provenance": []
  },
  "kernelspec": {
   "name": "python3",
   "display_name": "Python 3"
  },
  "language_info": {
   "name": "python"
  },
  "widgets": {
   "application/vnd.jupyter.widget-state+json": {
    "1948211a0d6b46e990981f442ae3bfc9": {
     "model_module": "@jupyter-widgets/output",
     "model_name": "OutputModel",
     "model_module_version": "1.0.0",
     "state": {
      "_dom_classes": [],
      "_model_module": "@jupyter-widgets/output",
      "_model_module_version": "1.0.0",
      "_model_name": "OutputModel",
      "_view_count": null,
      "_view_module": "@jupyter-widgets/output",
      "_view_module_version": "1.0.0",
      "_view_name": "OutputView",
      "layout": "IPY_MODEL_34cdbe11a2064f9d81d2d0d43c981a6d",
      "msg_id": "",
      "outputs": [
       {
        "output_type": "display_data",
        "data": {
         "text/plain": "Sampling chain 0, 0 divergences \u001B[32m━━━━━━━━━━━━━━━━━━━━━━━━━━━━━━━━━━━━━━━━\u001B[0m \u001B[35m100%\u001B[0m \u001B[36m0:00:00\u001B[0m / \u001B[33m0:01:48\u001B[0m\n",
         "text/html": "<pre style=\"white-space:pre;overflow-x:auto;line-height:normal;font-family:Menlo,'DejaVu Sans Mono',consolas,'Courier New',monospace\">Sampling chain 0, 0 divergences <span style=\"color: #008000; text-decoration-color: #008000\">━━━━━━━━━━━━━━━━━━━━━━━━━━━━━━━━━━━━━━━━</span> <span style=\"color: #800080; text-decoration-color: #800080\">100%</span> <span style=\"color: #008080; text-decoration-color: #008080\">0:00:00</span> / <span style=\"color: #808000; text-decoration-color: #808000\">0:01:48</span>\n</pre>\n"
        },
        "metadata": {}
       }
      ]
     }
    },
    "34cdbe11a2064f9d81d2d0d43c981a6d": {
     "model_module": "@jupyter-widgets/base",
     "model_name": "LayoutModel",
     "model_module_version": "1.2.0",
     "state": {
      "_model_module": "@jupyter-widgets/base",
      "_model_module_version": "1.2.0",
      "_model_name": "LayoutModel",
      "_view_count": null,
      "_view_module": "@jupyter-widgets/base",
      "_view_module_version": "1.2.0",
      "_view_name": "LayoutView",
      "align_content": null,
      "align_items": null,
      "align_self": null,
      "border": null,
      "bottom": null,
      "display": null,
      "flex": null,
      "flex_flow": null,
      "grid_area": null,
      "grid_auto_columns": null,
      "grid_auto_flow": null,
      "grid_auto_rows": null,
      "grid_column": null,
      "grid_gap": null,
      "grid_row": null,
      "grid_template_areas": null,
      "grid_template_columns": null,
      "grid_template_rows": null,
      "height": null,
      "justify_content": null,
      "justify_items": null,
      "left": null,
      "margin": null,
      "max_height": null,
      "max_width": null,
      "min_height": null,
      "min_width": null,
      "object_fit": null,
      "object_position": null,
      "order": null,
      "overflow": null,
      "overflow_x": null,
      "overflow_y": null,
      "padding": null,
      "right": null,
      "top": null,
      "visibility": null,
      "width": null
     }
    },
    "fd8536a21439431fb1090c9a398142dd": {
     "model_module": "@jupyter-widgets/output",
     "model_name": "OutputModel",
     "model_module_version": "1.0.0",
     "state": {
      "_dom_classes": [],
      "_model_module": "@jupyter-widgets/output",
      "_model_module_version": "1.0.0",
      "_model_name": "OutputModel",
      "_view_count": null,
      "_view_module": "@jupyter-widgets/output",
      "_view_module_version": "1.0.0",
      "_view_name": "OutputView",
      "layout": "IPY_MODEL_5fe558d2ed9040759336c4263a7275d5",
      "msg_id": "",
      "outputs": [
       {
        "output_type": "display_data",
        "data": {
         "text/plain": "Sampling chain 1, 0 divergences \u001B[32m━━━━━━━━━━━━━━━━━━━━━━━━━━━━━━━━━━━━━━━━\u001B[0m \u001B[35m100%\u001B[0m \u001B[36m0:00:00\u001B[0m / \u001B[33m0:01:35\u001B[0m\n",
         "text/html": "<pre style=\"white-space:pre;overflow-x:auto;line-height:normal;font-family:Menlo,'DejaVu Sans Mono',consolas,'Courier New',monospace\">Sampling chain 1, 0 divergences <span style=\"color: #008000; text-decoration-color: #008000\">━━━━━━━━━━━━━━━━━━━━━━━━━━━━━━━━━━━━━━━━</span> <span style=\"color: #800080; text-decoration-color: #800080\">100%</span> <span style=\"color: #008080; text-decoration-color: #008080\">0:00:00</span> / <span style=\"color: #808000; text-decoration-color: #808000\">0:01:35</span>\n</pre>\n"
        },
        "metadata": {}
       }
      ]
     }
    },
    "5fe558d2ed9040759336c4263a7275d5": {
     "model_module": "@jupyter-widgets/base",
     "model_name": "LayoutModel",
     "model_module_version": "1.2.0",
     "state": {
      "_model_module": "@jupyter-widgets/base",
      "_model_module_version": "1.2.0",
      "_model_name": "LayoutModel",
      "_view_count": null,
      "_view_module": "@jupyter-widgets/base",
      "_view_module_version": "1.2.0",
      "_view_name": "LayoutView",
      "align_content": null,
      "align_items": null,
      "align_self": null,
      "border": null,
      "bottom": null,
      "display": null,
      "flex": null,
      "flex_flow": null,
      "grid_area": null,
      "grid_auto_columns": null,
      "grid_auto_flow": null,
      "grid_auto_rows": null,
      "grid_column": null,
      "grid_gap": null,
      "grid_row": null,
      "grid_template_areas": null,
      "grid_template_columns": null,
      "grid_template_rows": null,
      "height": null,
      "justify_content": null,
      "justify_items": null,
      "left": null,
      "margin": null,
      "max_height": null,
      "max_width": null,
      "min_height": null,
      "min_width": null,
      "object_fit": null,
      "object_position": null,
      "order": null,
      "overflow": null,
      "overflow_x": null,
      "overflow_y": null,
      "padding": null,
      "right": null,
      "top": null,
      "visibility": null,
      "width": null
     }
    }
   }
  }
 },
 "cells": [
  {
   "cell_type": "code",
   "execution_count": 1,
   "metadata": {
    "id": "et75RgMTmejM",
    "executionInfo": {
     "status": "ok",
     "timestamp": 1729608244291,
     "user_tz": 240,
     "elapsed": 28161,
     "user": {
      "displayName": "Tamara Kecman",
      "userId": "10391225272220429359"
     }
    }
   },
   "outputs": [],
   "source": [
    "import pymc as pm\n",
    "import numpy as np\n",
    "import arviz as az\n",
    "import matplotlib.pyplot as plt"
   ]
  },
  {
   "cell_type": "code",
   "source": [
    "price1observation=900\n",
    "length1observation=4\n",
    "\n",
    "price2observation=1500\n",
    "length2observation=8"
   ],
   "metadata": {
    "id": "w5xIAE8A7zH-",
    "executionInfo": {
     "status": "ok",
     "timestamp": 1729608251952,
     "user_tz": 240,
     "elapsed": 192,
     "user": {
      "displayName": "Tamara Kecman",
      "userId": "10391225272220429359"
     }
    }
   },
   "execution_count": 2,
   "outputs": []
  },
  {
   "cell_type": "code",
   "source": [
    "#U2\n",
    "p2=price2observation\n",
    "l2=length2observation\n",
    "\n",
    "\n",
    "Up = (np.exp(-0.0015*p2)-np.exp(-0.0015*3500))/(1-np.exp(-0.0015*3500))\n",
    "Ul = (np.exp(-0.3)-np.exp(-0.3*l2))/(np.exp(-0.3)-np.exp(-10*0.3))\n",
    "U = 0.3*Up + 0.5*Ul + 0.1*Up*Ul\n",
    "U.mean(), Up,Ul.mean()"
   ],
   "metadata": {
    "colab": {
     "base_uri": "https://localhost:8080/"
    },
    "id": "1lWcTZ0V9xjp",
    "outputId": "81aaf972-6235-444d-9128-935891330641",
    "executionInfo": {
     "status": "ok",
     "timestamp": 1729608253709,
     "user_tz": 240,
     "elapsed": 160,
     "user": {
      "displayName": "Tamara Kecman",
      "userId": "10391225272220429359"
     }
    }
   },
   "execution_count": 3,
   "outputs": [
    {
     "output_type": "execute_result",
     "data": {
      "text/plain": [
       "(0.5100598636348878, 0.10068002645393001, 0.9407683940376707)"
      ]
     },
     "metadata": {},
     "execution_count": 3
    }
   ]
  },
  {
   "cell_type": "code",
   "source": [
    "model = pm.Model()\n",
    "\n",
    "#For U3\n",
    "with model:\n",
    "\n",
    "    # Priors for unknown model parameters\n",
    "    alpha = pm.Uniform(\"alpha\", lower=7, upper=10)\n",
    "    beta = pm.Uniform(\"beta\", lower=1/120, upper=1/80)\n",
    "    p = pm.Beta(\"p\", alpha=2, beta=5)\n",
    "\n",
    "    # observations\n",
    "    price1 = pm.Gamma(\"price1\",alpha=alpha,beta =beta, observed=price1observation)\n",
    "    coin1 = pm.Binomial(\"coin1\",p=p,n=9, observed=3)\n",
    "\n",
    "\n",
    "    price2 = pm.Gamma(\"price2\",alpha=alpha,beta =beta, observed=price2observation)\n",
    "    coin2 = pm.Binomial(\"coin2\",p=p,n=9, observed=length2observation-1)\n",
    "\n",
    "    #Unknown values\n",
    "    price3 = pm.Gamma(\"price3\",alpha=alpha,beta =beta)\n",
    "    length3 = 1+pm.Binomial(\"length3\",p=p,n=9)\n",
    "\n",
    "    Up = pm.Deterministic(\"Up\",(pm.math.exp(-0.0015*price3)-np.exp(-0.0015*3500))/(1-np.exp(-0.0015*3500))) #(np.exp(-0.0015*p2)-np.exp(-0.0015*3500))/(1-np.exp(-0.0015*3500))\n",
    "    Ul = pm.Deterministic(\"Ul\",(pm.math.exp(-0.3)-pm.math.exp(-0.3*length3))/(pm.math.exp(-0.3)-np.exp(-10*0.3)))\n",
    "\n",
    "    #total\n",
    "    U = pm.Deterministic('U',0.3*Up + 0.5*Ul + 0.2*Up*Ul)"
   ],
   "metadata": {
    "id": "bvnmBVIHuNYo",
    "executionInfo": {
     "status": "ok",
     "timestamp": 1729608260022,
     "user_tz": 240,
     "elapsed": 360,
     "user": {
      "displayName": "Tamara Kecman",
      "userId": "10391225272220429359"
     }
    }
   },
   "execution_count": 4,
   "outputs": []
  },
  {
   "cell_type": "code",
   "source": [
    "pm.model_to_graphviz(model)"
   ],
   "metadata": {
    "colab": {
     "base_uri": "https://localhost:8080/",
     "height": 517
    },
    "id": "57dUXWnAVqBQ",
    "outputId": "e61e5fcf-71d3-4ae9-9121-0237a80c2c2e",
    "executionInfo": {
     "status": "ok",
     "timestamp": 1729608263666,
     "user_tz": 240,
     "elapsed": 984,
     "user": {
      "displayName": "Tamara Kecman",
      "userId": "10391225272220429359"
     }
    }
   },
   "execution_count": 5,
   "outputs": [
    {
     "output_type": "execute_result",
     "data": {
      "image/svg+xml": "<?xml version=\"1.0\" encoding=\"UTF-8\" standalone=\"no\"?>\n<!DOCTYPE svg PUBLIC \"-//W3C//DTD SVG 1.1//EN\"\n \"http://www.w3.org/Graphics/SVG/1.1/DTD/svg11.dtd\">\n<!-- Generated by graphviz version 2.43.0 (0)\n -->\n<!-- Title: %3 Pages: 1 -->\n<svg width=\"644pt\" height=\"372pt\"\n viewBox=\"0.00 0.00 644.22 371.91\" xmlns=\"http://www.w3.org/2000/svg\" xmlns:xlink=\"http://www.w3.org/1999/xlink\">\n<g id=\"graph0\" class=\"graph\" transform=\"scale(1 1) rotate(0) translate(4 367.91)\">\n<title>%3</title>\n<polygon fill=\"white\" stroke=\"transparent\" points=\"-4,4 -4,-367.91 640.22,-367.91 640.22,4 -4,4\"/>\n<!-- p -->\n<g id=\"node1\" class=\"node\">\n<title>p</title>\n<ellipse fill=\"none\" stroke=\"black\" cx=\"162.08\" cy=\"-326.43\" rx=\"28.98\" ry=\"37.45\"/>\n<text text-anchor=\"middle\" x=\"162.08\" y=\"-337.73\" font-family=\"Times,serif\" font-size=\"14.00\">p</text>\n<text text-anchor=\"middle\" x=\"162.08\" y=\"-322.73\" font-family=\"Times,serif\" font-size=\"14.00\">~</text>\n<text text-anchor=\"middle\" x=\"162.08\" y=\"-307.73\" font-family=\"Times,serif\" font-size=\"14.00\">Beta</text>\n</g>\n<!-- coin1 -->\n<g id=\"node2\" class=\"node\">\n<title>coin1</title>\n<ellipse fill=\"lightgrey\" stroke=\"black\" cx=\"48.08\" cy=\"-215.48\" rx=\"48.17\" ry=\"37.45\"/>\n<text text-anchor=\"middle\" x=\"48.08\" y=\"-226.78\" font-family=\"Times,serif\" font-size=\"14.00\">coin1</text>\n<text text-anchor=\"middle\" x=\"48.08\" y=\"-211.78\" font-family=\"Times,serif\" font-size=\"14.00\">~</text>\n<text text-anchor=\"middle\" x=\"48.08\" y=\"-196.78\" font-family=\"Times,serif\" font-size=\"14.00\">Binomial</text>\n</g>\n<!-- p&#45;&gt;coin1 -->\n<g id=\"edge3\" class=\"edge\">\n<title>p&#45;&gt;coin1</title>\n<path fill=\"none\" stroke=\"black\" d=\"M139.01,-303.38C123.64,-288.69 103.1,-269.05 85.42,-252.16\"/>\n<polygon fill=\"black\" stroke=\"black\" points=\"87.7,-249.5 78.05,-245.12 82.86,-254.56 87.7,-249.5\"/>\n</g>\n<!-- coin2 -->\n<g id=\"node5\" class=\"node\">\n<title>coin2</title>\n<ellipse fill=\"lightgrey\" stroke=\"black\" cx=\"162.08\" cy=\"-215.48\" rx=\"48.17\" ry=\"37.45\"/>\n<text text-anchor=\"middle\" x=\"162.08\" y=\"-226.78\" font-family=\"Times,serif\" font-size=\"14.00\">coin2</text>\n<text text-anchor=\"middle\" x=\"162.08\" y=\"-211.78\" font-family=\"Times,serif\" font-size=\"14.00\">~</text>\n<text text-anchor=\"middle\" x=\"162.08\" y=\"-196.78\" font-family=\"Times,serif\" font-size=\"14.00\">Binomial</text>\n</g>\n<!-- p&#45;&gt;coin2 -->\n<g id=\"edge6\" class=\"edge\">\n<title>p&#45;&gt;coin2</title>\n<path fill=\"none\" stroke=\"black\" d=\"M162.08,-288.85C162.08,-280.67 162.08,-271.89 162.08,-263.37\"/>\n<polygon fill=\"black\" stroke=\"black\" points=\"165.58,-263.15 162.08,-253.15 158.58,-263.15 165.58,-263.15\"/>\n</g>\n<!-- length3 -->\n<g id=\"node11\" class=\"node\">\n<title>length3</title>\n<ellipse fill=\"none\" stroke=\"black\" cx=\"276.08\" cy=\"-215.48\" rx=\"48.17\" ry=\"37.45\"/>\n<text text-anchor=\"middle\" x=\"276.08\" y=\"-226.78\" font-family=\"Times,serif\" font-size=\"14.00\">length3</text>\n<text text-anchor=\"middle\" x=\"276.08\" y=\"-211.78\" font-family=\"Times,serif\" font-size=\"14.00\">~</text>\n<text text-anchor=\"middle\" x=\"276.08\" y=\"-196.78\" font-family=\"Times,serif\" font-size=\"14.00\">Binomial</text>\n</g>\n<!-- p&#45;&gt;length3 -->\n<g id=\"edge9\" class=\"edge\">\n<title>p&#45;&gt;length3</title>\n<path fill=\"none\" stroke=\"black\" d=\"M185.15,-303.38C200.52,-288.69 221.07,-269.05 238.74,-252.16\"/>\n<polygon fill=\"black\" stroke=\"black\" points=\"241.31,-254.56 246.12,-245.12 236.47,-249.5 241.31,-254.56\"/>\n</g>\n<!-- Up -->\n<g id=\"node3\" class=\"node\">\n<title>Up</title>\n<polygon fill=\"none\" stroke=\"black\" points=\"430.58,-142 339.58,-142 339.58,-89 430.58,-89 430.58,-142\"/>\n<text text-anchor=\"middle\" x=\"385.08\" y=\"-126.8\" font-family=\"Times,serif\" font-size=\"14.00\">Up</text>\n<text text-anchor=\"middle\" x=\"385.08\" y=\"-111.8\" font-family=\"Times,serif\" font-size=\"14.00\">~</text>\n<text text-anchor=\"middle\" x=\"385.08\" y=\"-96.8\" font-family=\"Times,serif\" font-size=\"14.00\">Deterministic</text>\n</g>\n<!-- U -->\n<g id=\"node10\" class=\"node\">\n<title>U</title>\n<polygon fill=\"none\" stroke=\"black\" points=\"375.58,-53 284.58,-53 284.58,0 375.58,0 375.58,-53\"/>\n<text text-anchor=\"middle\" x=\"330.08\" y=\"-37.8\" font-family=\"Times,serif\" font-size=\"14.00\">U</text>\n<text text-anchor=\"middle\" x=\"330.08\" y=\"-22.8\" font-family=\"Times,serif\" font-size=\"14.00\">~</text>\n<text text-anchor=\"middle\" x=\"330.08\" y=\"-7.8\" font-family=\"Times,serif\" font-size=\"14.00\">Deterministic</text>\n</g>\n<!-- Up&#45;&gt;U -->\n<g id=\"edge12\" class=\"edge\">\n<title>Up&#45;&gt;U</title>\n<path fill=\"none\" stroke=\"black\" d=\"M368.88,-88.87C363.56,-80.45 357.55,-70.95 351.88,-61.98\"/>\n<polygon fill=\"black\" stroke=\"black\" points=\"354.66,-59.83 346.36,-53.25 348.75,-63.57 354.66,-59.83\"/>\n</g>\n<!-- alpha -->\n<g id=\"node4\" class=\"node\">\n<title>alpha</title>\n<ellipse fill=\"none\" stroke=\"black\" cx=\"543.08\" cy=\"-326.43\" rx=\"45.01\" ry=\"37.45\"/>\n<text text-anchor=\"middle\" x=\"543.08\" y=\"-337.73\" font-family=\"Times,serif\" font-size=\"14.00\">alpha</text>\n<text text-anchor=\"middle\" x=\"543.08\" y=\"-322.73\" font-family=\"Times,serif\" font-size=\"14.00\">~</text>\n<text text-anchor=\"middle\" x=\"543.08\" y=\"-307.73\" font-family=\"Times,serif\" font-size=\"14.00\">Uniform</text>\n</g>\n<!-- price1 -->\n<g id=\"node7\" class=\"node\">\n<title>price1</title>\n<ellipse fill=\"lightgrey\" stroke=\"black\" cx=\"489.08\" cy=\"-215.48\" rx=\"43.27\" ry=\"37.45\"/>\n<text text-anchor=\"middle\" x=\"489.08\" y=\"-226.78\" font-family=\"Times,serif\" font-size=\"14.00\">price1</text>\n<text text-anchor=\"middle\" x=\"489.08\" y=\"-211.78\" font-family=\"Times,serif\" font-size=\"14.00\">~</text>\n<text text-anchor=\"middle\" x=\"489.08\" y=\"-196.78\" font-family=\"Times,serif\" font-size=\"14.00\">Gamma</text>\n</g>\n<!-- alpha&#45;&gt;price1 -->\n<g id=\"edge2\" class=\"edge\">\n<title>alpha&#45;&gt;price1</title>\n<path fill=\"none\" stroke=\"black\" d=\"M526.29,-291.55C521.26,-281.41 515.68,-270.14 510.4,-259.49\"/>\n<polygon fill=\"black\" stroke=\"black\" points=\"513.44,-257.74 505.86,-250.33 507.17,-260.85 513.44,-257.74\"/>\n</g>\n<!-- price3 -->\n<g id=\"node8\" class=\"node\">\n<title>price3</title>\n<ellipse fill=\"none\" stroke=\"black\" cx=\"385.08\" cy=\"-215.48\" rx=\"43.27\" ry=\"37.45\"/>\n<text text-anchor=\"middle\" x=\"385.08\" y=\"-226.78\" font-family=\"Times,serif\" font-size=\"14.00\">price3</text>\n<text text-anchor=\"middle\" x=\"385.08\" y=\"-211.78\" font-family=\"Times,serif\" font-size=\"14.00\">~</text>\n<text text-anchor=\"middle\" x=\"385.08\" y=\"-196.78\" font-family=\"Times,serif\" font-size=\"14.00\">Gamma</text>\n</g>\n<!-- alpha&#45;&gt;price3 -->\n<g id=\"edge8\" class=\"edge\">\n<title>alpha&#45;&gt;price3</title>\n<path fill=\"none\" stroke=\"black\" d=\"M508.64,-302.03C487.87,-287.89 460.91,-269.45 437.08,-252.95 433.62,-250.55 430.02,-248.05 426.42,-245.54\"/>\n<polygon fill=\"black\" stroke=\"black\" points=\"428.25,-242.55 418.05,-239.69 424.24,-248.29 428.25,-242.55\"/>\n</g>\n<!-- price2 -->\n<g id=\"node12\" class=\"node\">\n<title>price2</title>\n<ellipse fill=\"lightgrey\" stroke=\"black\" cx=\"593.08\" cy=\"-215.48\" rx=\"43.27\" ry=\"37.45\"/>\n<text text-anchor=\"middle\" x=\"593.08\" y=\"-226.78\" font-family=\"Times,serif\" font-size=\"14.00\">price2</text>\n<text text-anchor=\"middle\" x=\"593.08\" y=\"-211.78\" font-family=\"Times,serif\" font-size=\"14.00\">~</text>\n<text text-anchor=\"middle\" x=\"593.08\" y=\"-196.78\" font-family=\"Times,serif\" font-size=\"14.00\">Gamma</text>\n</g>\n<!-- alpha&#45;&gt;price2 -->\n<g id=\"edge5\" class=\"edge\">\n<title>alpha&#45;&gt;price2</title>\n<path fill=\"none\" stroke=\"black\" d=\"M558.77,-291.26C563.33,-281.32 568.37,-270.33 573.16,-259.9\"/>\n<polygon fill=\"black\" stroke=\"black\" points=\"576.47,-261.08 577.46,-250.53 570.1,-258.16 576.47,-261.08\"/>\n</g>\n<!-- beta -->\n<g id=\"node6\" class=\"node\">\n<title>beta</title>\n<ellipse fill=\"none\" stroke=\"black\" cx=\"434.08\" cy=\"-326.43\" rx=\"45.01\" ry=\"37.45\"/>\n<text text-anchor=\"middle\" x=\"434.08\" y=\"-337.73\" font-family=\"Times,serif\" font-size=\"14.00\">beta</text>\n<text text-anchor=\"middle\" x=\"434.08\" y=\"-322.73\" font-family=\"Times,serif\" font-size=\"14.00\">~</text>\n<text text-anchor=\"middle\" x=\"434.08\" y=\"-307.73\" font-family=\"Times,serif\" font-size=\"14.00\">Uniform</text>\n</g>\n<!-- beta&#45;&gt;price1 -->\n<g id=\"edge1\" class=\"edge\">\n<title>beta&#45;&gt;price1</title>\n<path fill=\"none\" stroke=\"black\" d=\"M451.18,-291.55C456.35,-281.31 462.1,-269.93 467.52,-259.19\"/>\n<polygon fill=\"black\" stroke=\"black\" points=\"470.8,-260.46 472.18,-249.96 464.55,-257.31 470.8,-260.46\"/>\n</g>\n<!-- beta&#45;&gt;price3 -->\n<g id=\"edge7\" class=\"edge\">\n<title>beta&#45;&gt;price3</title>\n<path fill=\"none\" stroke=\"black\" d=\"M418.58,-290.96C414.16,-281.12 409.28,-270.28 404.65,-259.98\"/>\n<polygon fill=\"black\" stroke=\"black\" points=\"407.78,-258.41 400.49,-250.73 401.4,-261.28 407.78,-258.41\"/>\n</g>\n<!-- beta&#45;&gt;price2 -->\n<g id=\"edge4\" class=\"edge\">\n<title>beta&#45;&gt;price2</title>\n<path fill=\"none\" stroke=\"black\" d=\"M468.88,-302.07C489.85,-287.94 517.07,-269.51 541.08,-252.95 544.56,-250.56 548.15,-248.07 551.76,-245.56\"/>\n<polygon fill=\"black\" stroke=\"black\" points=\"553.93,-248.31 560.13,-239.71 549.93,-242.57 553.93,-248.31\"/>\n</g>\n<!-- price3&#45;&gt;Up -->\n<g id=\"edge10\" class=\"edge\">\n<title>price3&#45;&gt;Up</title>\n<path fill=\"none\" stroke=\"black\" d=\"M385.08,-177.99C385.08,-169.58 385.08,-160.63 385.08,-152.25\"/>\n<polygon fill=\"black\" stroke=\"black\" points=\"388.58,-152.01 385.08,-142.01 381.58,-152.01 388.58,-152.01\"/>\n</g>\n<!-- Ul -->\n<g id=\"node9\" class=\"node\">\n<title>Ul</title>\n<polygon fill=\"none\" stroke=\"black\" points=\"321.58,-142 230.58,-142 230.58,-89 321.58,-89 321.58,-142\"/>\n<text text-anchor=\"middle\" x=\"276.08\" y=\"-126.8\" font-family=\"Times,serif\" font-size=\"14.00\">Ul</text>\n<text text-anchor=\"middle\" x=\"276.08\" y=\"-111.8\" font-family=\"Times,serif\" font-size=\"14.00\">~</text>\n<text text-anchor=\"middle\" x=\"276.08\" y=\"-96.8\" font-family=\"Times,serif\" font-size=\"14.00\">Deterministic</text>\n</g>\n<!-- Ul&#45;&gt;U -->\n<g id=\"edge13\" class=\"edge\">\n<title>Ul&#45;&gt;U</title>\n<path fill=\"none\" stroke=\"black\" d=\"M291.99,-88.87C297.22,-80.45 303.12,-70.95 308.68,-61.98\"/>\n<polygon fill=\"black\" stroke=\"black\" points=\"311.8,-63.59 314.1,-53.25 305.85,-59.9 311.8,-63.59\"/>\n</g>\n<!-- length3&#45;&gt;Ul -->\n<g id=\"edge11\" class=\"edge\">\n<title>length3&#45;&gt;Ul</title>\n<path fill=\"none\" stroke=\"black\" d=\"M276.08,-177.99C276.08,-169.58 276.08,-160.63 276.08,-152.25\"/>\n<polygon fill=\"black\" stroke=\"black\" points=\"279.58,-152.01 276.08,-142.01 272.58,-152.01 279.58,-152.01\"/>\n</g>\n</g>\n</svg>\n",
      "text/plain": [
       "<graphviz.graphs.Digraph at 0x7bfdffb820e0>"
      ]
     },
     "metadata": {},
     "execution_count": 5
    }
   ]
  },
  {
   "cell_type": "code",
   "source": [
    "with model:\n",
    "    trace = pm.sample(draws= 50000,tune=1000,chains=2, random_seed=0)"
   ],
   "metadata": {
    "colab": {
     "base_uri": "https://localhost:8080/",
     "height": 50,
     "referenced_widgets": [
      "1948211a0d6b46e990981f442ae3bfc9",
      "34cdbe11a2064f9d81d2d0d43c981a6d",
      "fd8536a21439431fb1090c9a398142dd",
      "5fe558d2ed9040759336c4263a7275d5"
     ]
    },
    "id": "JS2Shynhvnke",
    "outputId": "14a7aef4-4789-493f-9df2-0b26fe933186",
    "executionInfo": {
     "status": "ok",
     "timestamp": 1729608562136,
     "user_tz": 240,
     "elapsed": 294202,
     "user": {
      "displayName": "Tamara Kecman",
      "userId": "10391225272220429359"
     }
    }
   },
   "execution_count": 6,
   "outputs": [
    {
     "output_type": "display_data",
     "data": {
      "text/plain": [
       "Output()"
      ],
      "application/vnd.jupyter.widget-view+json": {
       "version_major": 2,
       "version_minor": 0,
       "model_id": "1948211a0d6b46e990981f442ae3bfc9"
      }
     },
     "metadata": {}
    },
    {
     "output_type": "display_data",
     "data": {
      "text/plain": [],
      "text/html": [
       "<pre style=\"white-space:pre;overflow-x:auto;line-height:normal;font-family:Menlo,'DejaVu Sans Mono',consolas,'Courier New',monospace\"></pre>\n"
      ]
     },
     "metadata": {}
    },
    {
     "output_type": "display_data",
     "data": {
      "text/plain": [
       "Output()"
      ],
      "application/vnd.jupyter.widget-view+json": {
       "version_major": 2,
       "version_minor": 0,
       "model_id": "fd8536a21439431fb1090c9a398142dd"
      }
     },
     "metadata": {}
    },
    {
     "output_type": "display_data",
     "data": {
      "text/plain": [],
      "text/html": [
       "<pre style=\"white-space:pre;overflow-x:auto;line-height:normal;font-family:Menlo,'DejaVu Sans Mono',consolas,'Courier New',monospace\"></pre>\n"
      ]
     },
     "metadata": {}
    }
   ]
  },
  {
   "cell_type": "code",
   "source": [
    "with model:\n",
    "    display(az.summary(trace))"
   ],
   "metadata": {
    "colab": {
     "base_uri": "https://localhost:8080/",
     "height": 300
    },
    "id": "9P08fTN6_iDS",
    "outputId": "8596b819-f1bf-4b36-c815-09334345d980",
    "executionInfo": {
     "status": "ok",
     "timestamp": 1729608576602,
     "user_tz": 240,
     "elapsed": 991,
     "user": {
      "displayName": "Tamara Kecman",
      "userId": "10391225272220429359"
     }
    }
   },
   "execution_count": 7,
   "outputs": [
    {
     "output_type": "display_data",
     "data": {
      "text/plain": [
       "            mean       sd   hdi_3%   hdi_97%  mcse_mean  mcse_sd  ess_bulk  \\\n",
       "U          0.489    0.112    0.270     0.693      0.001    0.001   10941.0   \n",
       "Ul         0.735    0.176    0.484     0.975      0.002    0.001    7962.0   \n",
       "Up         0.271    0.123    0.058     0.497      0.000    0.000   78307.0   \n",
       "alpha      8.933    0.772    7.511    10.000      0.003    0.002   86297.0   \n",
       "beta       0.010    0.001    0.008     0.012      0.000    0.000   80321.0   \n",
       "length3    4.289    1.707    1.000     7.000      0.019    0.014    7962.0   \n",
       "p          0.479    0.098    0.298     0.664      0.001    0.000   23400.0   \n",
       "price3   936.578  333.339  346.445  1551.735      1.164    0.823   78307.0   \n",
       "\n",
       "         ess_tail  r_hat  \n",
       "U         17059.0    1.0  \n",
       "Ul        12082.0    1.0  \n",
       "Up        66384.0    1.0  \n",
       "alpha     67814.0    1.0  \n",
       "beta      62834.0    1.0  \n",
       "length3   12082.0    1.0  \n",
       "p         49312.0    1.0  \n",
       "price3    66384.0    1.0  "
      ],
      "text/html": [
       "\n",
       "  <div id=\"df-7380dc7e-4d29-458f-90bf-ad575345f912\" class=\"colab-df-container\">\n",
       "    <div>\n",
       "<style scoped>\n",
       "    .dataframe tbody tr th:only-of-type {\n",
       "        vertical-align: middle;\n",
       "    }\n",
       "\n",
       "    .dataframe tbody tr th {\n",
       "        vertical-align: top;\n",
       "    }\n",
       "\n",
       "    .dataframe thead th {\n",
       "        text-align: right;\n",
       "    }\n",
       "</style>\n",
       "<table border=\"1\" class=\"dataframe\">\n",
       "  <thead>\n",
       "    <tr style=\"text-align: right;\">\n",
       "      <th></th>\n",
       "      <th>mean</th>\n",
       "      <th>sd</th>\n",
       "      <th>hdi_3%</th>\n",
       "      <th>hdi_97%</th>\n",
       "      <th>mcse_mean</th>\n",
       "      <th>mcse_sd</th>\n",
       "      <th>ess_bulk</th>\n",
       "      <th>ess_tail</th>\n",
       "      <th>r_hat</th>\n",
       "    </tr>\n",
       "  </thead>\n",
       "  <tbody>\n",
       "    <tr>\n",
       "      <th>U</th>\n",
       "      <td>0.489</td>\n",
       "      <td>0.112</td>\n",
       "      <td>0.270</td>\n",
       "      <td>0.693</td>\n",
       "      <td>0.001</td>\n",
       "      <td>0.001</td>\n",
       "      <td>10941.0</td>\n",
       "      <td>17059.0</td>\n",
       "      <td>1.0</td>\n",
       "    </tr>\n",
       "    <tr>\n",
       "      <th>Ul</th>\n",
       "      <td>0.735</td>\n",
       "      <td>0.176</td>\n",
       "      <td>0.484</td>\n",
       "      <td>0.975</td>\n",
       "      <td>0.002</td>\n",
       "      <td>0.001</td>\n",
       "      <td>7962.0</td>\n",
       "      <td>12082.0</td>\n",
       "      <td>1.0</td>\n",
       "    </tr>\n",
       "    <tr>\n",
       "      <th>Up</th>\n",
       "      <td>0.271</td>\n",
       "      <td>0.123</td>\n",
       "      <td>0.058</td>\n",
       "      <td>0.497</td>\n",
       "      <td>0.000</td>\n",
       "      <td>0.000</td>\n",
       "      <td>78307.0</td>\n",
       "      <td>66384.0</td>\n",
       "      <td>1.0</td>\n",
       "    </tr>\n",
       "    <tr>\n",
       "      <th>alpha</th>\n",
       "      <td>8.933</td>\n",
       "      <td>0.772</td>\n",
       "      <td>7.511</td>\n",
       "      <td>10.000</td>\n",
       "      <td>0.003</td>\n",
       "      <td>0.002</td>\n",
       "      <td>86297.0</td>\n",
       "      <td>67814.0</td>\n",
       "      <td>1.0</td>\n",
       "    </tr>\n",
       "    <tr>\n",
       "      <th>beta</th>\n",
       "      <td>0.010</td>\n",
       "      <td>0.001</td>\n",
       "      <td>0.008</td>\n",
       "      <td>0.012</td>\n",
       "      <td>0.000</td>\n",
       "      <td>0.000</td>\n",
       "      <td>80321.0</td>\n",
       "      <td>62834.0</td>\n",
       "      <td>1.0</td>\n",
       "    </tr>\n",
       "    <tr>\n",
       "      <th>length3</th>\n",
       "      <td>4.289</td>\n",
       "      <td>1.707</td>\n",
       "      <td>1.000</td>\n",
       "      <td>7.000</td>\n",
       "      <td>0.019</td>\n",
       "      <td>0.014</td>\n",
       "      <td>7962.0</td>\n",
       "      <td>12082.0</td>\n",
       "      <td>1.0</td>\n",
       "    </tr>\n",
       "    <tr>\n",
       "      <th>p</th>\n",
       "      <td>0.479</td>\n",
       "      <td>0.098</td>\n",
       "      <td>0.298</td>\n",
       "      <td>0.664</td>\n",
       "      <td>0.001</td>\n",
       "      <td>0.000</td>\n",
       "      <td>23400.0</td>\n",
       "      <td>49312.0</td>\n",
       "      <td>1.0</td>\n",
       "    </tr>\n",
       "    <tr>\n",
       "      <th>price3</th>\n",
       "      <td>936.578</td>\n",
       "      <td>333.339</td>\n",
       "      <td>346.445</td>\n",
       "      <td>1551.735</td>\n",
       "      <td>1.164</td>\n",
       "      <td>0.823</td>\n",
       "      <td>78307.0</td>\n",
       "      <td>66384.0</td>\n",
       "      <td>1.0</td>\n",
       "    </tr>\n",
       "  </tbody>\n",
       "</table>\n",
       "</div>\n",
       "    <div class=\"colab-df-buttons\">\n",
       "\n",
       "  <div class=\"colab-df-container\">\n",
       "    <button class=\"colab-df-convert\" onclick=\"convertToInteractive('df-7380dc7e-4d29-458f-90bf-ad575345f912')\"\n",
       "            title=\"Convert this dataframe to an interactive table.\"\n",
       "            style=\"display:none;\">\n",
       "\n",
       "  <svg xmlns=\"http://www.w3.org/2000/svg\" height=\"24px\" viewBox=\"0 -960 960 960\">\n",
       "    <path d=\"M120-120v-720h720v720H120Zm60-500h600v-160H180v160Zm220 220h160v-160H400v160Zm0 220h160v-160H400v160ZM180-400h160v-160H180v160Zm440 0h160v-160H620v160ZM180-180h160v-160H180v160Zm440 0h160v-160H620v160Z\"/>\n",
       "  </svg>\n",
       "    </button>\n",
       "\n",
       "  <style>\n",
       "    .colab-df-container {\n",
       "      display:flex;\n",
       "      gap: 12px;\n",
       "    }\n",
       "\n",
       "    .colab-df-convert {\n",
       "      background-color: #E8F0FE;\n",
       "      border: none;\n",
       "      border-radius: 50%;\n",
       "      cursor: pointer;\n",
       "      display: none;\n",
       "      fill: #1967D2;\n",
       "      height: 32px;\n",
       "      padding: 0 0 0 0;\n",
       "      width: 32px;\n",
       "    }\n",
       "\n",
       "    .colab-df-convert:hover {\n",
       "      background-color: #E2EBFA;\n",
       "      box-shadow: 0px 1px 2px rgba(60, 64, 67, 0.3), 0px 1px 3px 1px rgba(60, 64, 67, 0.15);\n",
       "      fill: #174EA6;\n",
       "    }\n",
       "\n",
       "    .colab-df-buttons div {\n",
       "      margin-bottom: 4px;\n",
       "    }\n",
       "\n",
       "    [theme=dark] .colab-df-convert {\n",
       "      background-color: #3B4455;\n",
       "      fill: #D2E3FC;\n",
       "    }\n",
       "\n",
       "    [theme=dark] .colab-df-convert:hover {\n",
       "      background-color: #434B5C;\n",
       "      box-shadow: 0px 1px 3px 1px rgba(0, 0, 0, 0.15);\n",
       "      filter: drop-shadow(0px 1px 2px rgba(0, 0, 0, 0.3));\n",
       "      fill: #FFFFFF;\n",
       "    }\n",
       "  </style>\n",
       "\n",
       "    <script>\n",
       "      const buttonEl =\n",
       "        document.querySelector('#df-7380dc7e-4d29-458f-90bf-ad575345f912 button.colab-df-convert');\n",
       "      buttonEl.style.display =\n",
       "        google.colab.kernel.accessAllowed ? 'block' : 'none';\n",
       "\n",
       "      async function convertToInteractive(key) {\n",
       "        const element = document.querySelector('#df-7380dc7e-4d29-458f-90bf-ad575345f912');\n",
       "        const dataTable =\n",
       "          await google.colab.kernel.invokeFunction('convertToInteractive',\n",
       "                                                    [key], {});\n",
       "        if (!dataTable) return;\n",
       "\n",
       "        const docLinkHtml = 'Like what you see? Visit the ' +\n",
       "          '<a target=\"_blank\" href=https://colab.research.google.com/notebooks/data_table.ipynb>data table notebook</a>'\n",
       "          + ' to learn more about interactive tables.';\n",
       "        element.innerHTML = '';\n",
       "        dataTable['output_type'] = 'display_data';\n",
       "        await google.colab.output.renderOutput(dataTable, element);\n",
       "        const docLink = document.createElement('div');\n",
       "        docLink.innerHTML = docLinkHtml;\n",
       "        element.appendChild(docLink);\n",
       "      }\n",
       "    </script>\n",
       "  </div>\n",
       "\n",
       "\n",
       "<div id=\"df-12a7610c-7cda-4a7e-9836-7845b29ac90c\">\n",
       "  <button class=\"colab-df-quickchart\" onclick=\"quickchart('df-12a7610c-7cda-4a7e-9836-7845b29ac90c')\"\n",
       "            title=\"Suggest charts\"\n",
       "            style=\"display:none;\">\n",
       "\n",
       "<svg xmlns=\"http://www.w3.org/2000/svg\" height=\"24px\"viewBox=\"0 0 24 24\"\n",
       "     width=\"24px\">\n",
       "    <g>\n",
       "        <path d=\"M19 3H5c-1.1 0-2 .9-2 2v14c0 1.1.9 2 2 2h14c1.1 0 2-.9 2-2V5c0-1.1-.9-2-2-2zM9 17H7v-7h2v7zm4 0h-2V7h2v10zm4 0h-2v-4h2v4z\"/>\n",
       "    </g>\n",
       "</svg>\n",
       "  </button>\n",
       "\n",
       "<style>\n",
       "  .colab-df-quickchart {\n",
       "      --bg-color: #E8F0FE;\n",
       "      --fill-color: #1967D2;\n",
       "      --hover-bg-color: #E2EBFA;\n",
       "      --hover-fill-color: #174EA6;\n",
       "      --disabled-fill-color: #AAA;\n",
       "      --disabled-bg-color: #DDD;\n",
       "  }\n",
       "\n",
       "  [theme=dark] .colab-df-quickchart {\n",
       "      --bg-color: #3B4455;\n",
       "      --fill-color: #D2E3FC;\n",
       "      --hover-bg-color: #434B5C;\n",
       "      --hover-fill-color: #FFFFFF;\n",
       "      --disabled-bg-color: #3B4455;\n",
       "      --disabled-fill-color: #666;\n",
       "  }\n",
       "\n",
       "  .colab-df-quickchart {\n",
       "    background-color: var(--bg-color);\n",
       "    border: none;\n",
       "    border-radius: 50%;\n",
       "    cursor: pointer;\n",
       "    display: none;\n",
       "    fill: var(--fill-color);\n",
       "    height: 32px;\n",
       "    padding: 0;\n",
       "    width: 32px;\n",
       "  }\n",
       "\n",
       "  .colab-df-quickchart:hover {\n",
       "    background-color: var(--hover-bg-color);\n",
       "    box-shadow: 0 1px 2px rgba(60, 64, 67, 0.3), 0 1px 3px 1px rgba(60, 64, 67, 0.15);\n",
       "    fill: var(--button-hover-fill-color);\n",
       "  }\n",
       "\n",
       "  .colab-df-quickchart-complete:disabled,\n",
       "  .colab-df-quickchart-complete:disabled:hover {\n",
       "    background-color: var(--disabled-bg-color);\n",
       "    fill: var(--disabled-fill-color);\n",
       "    box-shadow: none;\n",
       "  }\n",
       "\n",
       "  .colab-df-spinner {\n",
       "    border: 2px solid var(--fill-color);\n",
       "    border-color: transparent;\n",
       "    border-bottom-color: var(--fill-color);\n",
       "    animation:\n",
       "      spin 1s steps(1) infinite;\n",
       "  }\n",
       "\n",
       "  @keyframes spin {\n",
       "    0% {\n",
       "      border-color: transparent;\n",
       "      border-bottom-color: var(--fill-color);\n",
       "      border-left-color: var(--fill-color);\n",
       "    }\n",
       "    20% {\n",
       "      border-color: transparent;\n",
       "      border-left-color: var(--fill-color);\n",
       "      border-top-color: var(--fill-color);\n",
       "    }\n",
       "    30% {\n",
       "      border-color: transparent;\n",
       "      border-left-color: var(--fill-color);\n",
       "      border-top-color: var(--fill-color);\n",
       "      border-right-color: var(--fill-color);\n",
       "    }\n",
       "    40% {\n",
       "      border-color: transparent;\n",
       "      border-right-color: var(--fill-color);\n",
       "      border-top-color: var(--fill-color);\n",
       "    }\n",
       "    60% {\n",
       "      border-color: transparent;\n",
       "      border-right-color: var(--fill-color);\n",
       "    }\n",
       "    80% {\n",
       "      border-color: transparent;\n",
       "      border-right-color: var(--fill-color);\n",
       "      border-bottom-color: var(--fill-color);\n",
       "    }\n",
       "    90% {\n",
       "      border-color: transparent;\n",
       "      border-bottom-color: var(--fill-color);\n",
       "    }\n",
       "  }\n",
       "</style>\n",
       "\n",
       "  <script>\n",
       "    async function quickchart(key) {\n",
       "      const quickchartButtonEl =\n",
       "        document.querySelector('#' + key + ' button');\n",
       "      quickchartButtonEl.disabled = true;  // To prevent multiple clicks.\n",
       "      quickchartButtonEl.classList.add('colab-df-spinner');\n",
       "      try {\n",
       "        const charts = await google.colab.kernel.invokeFunction(\n",
       "            'suggestCharts', [key], {});\n",
       "      } catch (error) {\n",
       "        console.error('Error during call to suggestCharts:', error);\n",
       "      }\n",
       "      quickchartButtonEl.classList.remove('colab-df-spinner');\n",
       "      quickchartButtonEl.classList.add('colab-df-quickchart-complete');\n",
       "    }\n",
       "    (() => {\n",
       "      let quickchartButtonEl =\n",
       "        document.querySelector('#df-12a7610c-7cda-4a7e-9836-7845b29ac90c button');\n",
       "      quickchartButtonEl.style.display =\n",
       "        google.colab.kernel.accessAllowed ? 'block' : 'none';\n",
       "    })();\n",
       "  </script>\n",
       "</div>\n",
       "\n",
       "    </div>\n",
       "  </div>\n"
      ],
      "application/vnd.google.colaboratory.intrinsic+json": {
       "type": "dataframe",
       "summary": "{\n  \"name\": \"    display(az\",\n  \"rows\": 8,\n  \"fields\": [\n    {\n      \"column\": \"mean\",\n      \"properties\": {\n        \"dtype\": \"number\",\n        \"std\": 330.376631089428,\n        \"min\": 0.01,\n        \"max\": 936.578,\n        \"num_unique_values\": 8,\n        \"samples\": [\n          0.735,\n          4.289,\n          0.489\n        ],\n        \"semantic_type\": \"\",\n        \"description\": \"\"\n      }\n    },\n    {\n      \"column\": \"sd\",\n      \"properties\": {\n        \"dtype\": \"number\",\n        \"std\": 117.70356321830582,\n        \"min\": 0.001,\n        \"max\": 333.339,\n        \"num_unique_values\": 8,\n        \"samples\": [\n          0.176,\n          1.707,\n          0.112\n        ],\n        \"semantic_type\": \"\",\n        \"description\": \"\"\n      }\n    },\n    {\n      \"column\": \"hdi_3%\",\n      \"properties\": {\n        \"dtype\": \"number\",\n        \"std\": 122.0265579111484,\n        \"min\": 0.008,\n        \"max\": 346.445,\n        \"num_unique_values\": 8,\n        \"samples\": [\n          0.484,\n          1.0,\n          0.27\n        ],\n        \"semantic_type\": \"\",\n        \"description\": \"\"\n      }\n    },\n    {\n      \"column\": \"hdi_97%\",\n      \"properties\": {\n        \"dtype\": \"number\",\n        \"std\": 547.6314243665298,\n        \"min\": 0.012,\n        \"max\": 1551.735,\n        \"num_unique_values\": 8,\n        \"samples\": [\n          0.975,\n          7.0,\n          0.693\n        ],\n        \"semantic_type\": \"\",\n        \"description\": \"\"\n      }\n    },\n    {\n      \"column\": \"mcse_mean\",\n      \"properties\": {\n        \"dtype\": \"number\",\n        \"std\": 0.41027159993629303,\n        \"min\": 0.0,\n        \"max\": 1.164,\n        \"num_unique_values\": 6,\n        \"samples\": [\n          0.001,\n          0.002,\n          1.164\n        ],\n        \"semantic_type\": \"\",\n        \"description\": \"\"\n      }\n    },\n    {\n      \"column\": \"mcse_sd\",\n      \"properties\": {\n        \"dtype\": \"number\",\n        \"std\": 0.29010364527182353,\n        \"min\": 0.0,\n        \"max\": 0.823,\n        \"num_unique_values\": 5,\n        \"samples\": [\n          0.0,\n          0.823,\n          0.002\n        ],\n        \"semantic_type\": \"\",\n        \"description\": \"\"\n      }\n    },\n    {\n      \"column\": \"ess_bulk\",\n      \"properties\": {\n        \"dtype\": \"number\",\n        \"std\": 36876.548860207695,\n        \"min\": 7962.0,\n        \"max\": 86297.0,\n        \"num_unique_values\": 6,\n        \"samples\": [\n          10941.0,\n          7962.0,\n          23400.0\n        ],\n        \"semantic_type\": \"\",\n        \"description\": \"\"\n      }\n    },\n    {\n      \"column\": \"ess_tail\",\n      \"properties\": {\n        \"dtype\": \"number\",\n        \"std\": 25953.22588502797,\n        \"min\": 12082.0,\n        \"max\": 67814.0,\n        \"num_unique_values\": 6,\n        \"samples\": [\n          17059.0,\n          12082.0,\n          49312.0\n        ],\n        \"semantic_type\": \"\",\n        \"description\": \"\"\n      }\n    },\n    {\n      \"column\": \"r_hat\",\n      \"properties\": {\n        \"dtype\": \"number\",\n        \"std\": 0.0,\n        \"min\": 1.0,\n        \"max\": 1.0,\n        \"num_unique_values\": 1,\n        \"samples\": [\n          1.0\n        ],\n        \"semantic_type\": \"\",\n        \"description\": \"\"\n      }\n    }\n  ]\n}"
      }
     },
     "metadata": {}
    }
   ]
  },
  {
   "cell_type": "code",
   "source": [
    "with model:\n",
    "    az.plot_trace(trace)\n",
    "    plt.tight_layout()"
   ],
   "metadata": {
    "id": "g3-zDJbn-6lP"
   },
   "execution_count": null,
   "outputs": []
  },
  {
   "cell_type": "code",
   "source": [
    "(trace['posterior']['U']).to_numpy().mean()"
   ],
   "metadata": {
    "id": "dklPnU4ztJa5"
   },
   "execution_count": null,
   "outputs": []
  }
 ]
}
