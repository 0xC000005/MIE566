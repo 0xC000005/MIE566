{
 "cells": [
  {
   "cell_type": "code",
   "id": "initial_id",
   "metadata": {
    "collapsed": true,
    "ExecuteTime": {
     "end_time": "2024-10-24T18:07:54.342863Z",
     "start_time": "2024-10-24T18:07:52.384138Z"
    }
   },
   "source": [
    "import pymc as pm\n",
    "import numpy as np\n",
    "import arviz as az\n",
    "import matplotlib.pyplot as plt"
   ],
   "outputs": [],
   "execution_count": 1
  },
  {
   "metadata": {},
   "cell_type": "code",
   "outputs": [],
   "execution_count": null,
   "source": [
    "model = pm.Model()\n",
    "\n",
    "with model:\n",
    "\n",
    "    # the possibility of choosing 1 is 0.99, 2-9 is 0.00125, the distribution is not continuous\n",
    "    p = pm.Dirichlet('p', a=np.ones(9)*0.00125, shape=9)"
   ],
   "id": "9e92b242c87894af"
  }
 ],
 "metadata": {
  "kernelspec": {
   "display_name": "Python 3",
   "language": "python",
   "name": "python3"
  },
  "language_info": {
   "codemirror_mode": {
    "name": "ipython",
    "version": 2
   },
   "file_extension": ".py",
   "mimetype": "text/x-python",
   "name": "python",
   "nbconvert_exporter": "python",
   "pygments_lexer": "ipython2",
   "version": "2.7.6"
  }
 },
 "nbformat": 4,
 "nbformat_minor": 5
}
